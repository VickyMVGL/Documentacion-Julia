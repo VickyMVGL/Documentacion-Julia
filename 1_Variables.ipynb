{
 "cells": [
  {
   "cell_type": "markdown",
   "metadata": {},
   "source": [
    "Julia tiene una manera muy flexible de nombrar a las variables, sin embargo, estos nombres tienen que cumplir con ciertos parámetros:\n",
    "\n",
    "1. Debe empezar bien: El primer carácter debe ser una letra (mayúscula o minúscula), un guión bajo (_) o un símbolo que se parezca a una letra (como una letra griega o un símbolo matemático).\n",
    "2. Puede seguir con casi cualquier cosa: Después del primer carácter, puedes usar letras, números, guiones bajos y otros símbolos especiales como puntos, comas o signos de exclamación.\n",
    "\n",
    "Una variable es un espacio de memoria que guarda un valor, en julia, este valor que puede almacenar puede ser de varios tipos. Estos tipos son:"
   ]
  },
  {
   "cell_type": "markdown",
   "metadata": {},
   "source": [
    "integer:"
   ]
  },
  {
   "cell_type": "code",
   "execution_count": 1,
   "metadata": {
    "vscode": {
     "languageId": "julia"
    }
   },
   "outputs": [],
   "source": [
    "#Integer\n",
    "x=10\n",
    "y= -3\n",
    "\n",
    "#float\n",
    "z = 2.8\n",
    "\n",
    "#String\n",
    "palabra = \"Hola, estoy aprendiendo julia\"\n"
   ]
  },
  {
   "cell_type": "markdown",
   "metadata": {},
   "source": [
    "Julia incluso permite definir variables y los nombres de las mismas en distintes idiomas, letras griegas e inclusive emojis(aunque no es para nada recomendable utilizar los emojis en un programa)"
   ]
  },
  {
   "cell_type": "code",
   "execution_count": 2,
   "metadata": {
    "vscode": {
     "languageId": "julia"
    }
   },
   "outputs": [],
   "source": [
    "#letras griegas\n",
    "α= 3.96\n",
    "β = 1.45\n",
    "θ = 9.23\n",
    "\n",
    "#otros idiomas\n",
    "안녕하세요 = \"Hello\"\n",
    "\n",
    "#Emojis\n",
    "\n",
    "\n",
    "😝 = \"Mira el emoji\"\n",
    "😎 = \"No es muy cool?\""
   ]
  },
  {
   "cell_type": "markdown",
   "metadata": {},
   "source": [
    "Julia te permitirá incluso reemplazar constantes y funciones exportadas existentes con las locales (aunque no se recomienda esto para evitar posibles confusiones)."
   ]
  },
  {
   "cell_type": "code",
   "execution_count": null,
   "metadata": {
    "vscode": {
     "languageId": "julia"
    }
   },
   "outputs": [],
   "source": [
    "#Supongamos que tenemos un módulo llamado MiModulo con la siguiente definición:\n",
    "\n",
    "module MiModulo\n",
    "    export mi_funcion\n",
    "\n",
    "    function mi_funcion(x)\n",
    "        return x^2\n",
    "    end\n",
    "end"
   ]
  },
  {
   "cell_type": "code",
   "execution_count": null,
   "metadata": {
    "vscode": {
     "languageId": "julia"
    }
   },
   "outputs": [],
   "source": [
    "#Ahora, en nuestro script principal, podemos importar este módulo y redefinir la función mi_funcion:\n",
    "\n",
    "using MiModulo\n",
    "\n",
    "# Redefiniendo mi_funcion\n",
    "mi_funcion(x) = 2x"
   ]
  },
  {
   "cell_type": "markdown",
   "metadata": {},
   "source": [
    "Sin embargo, si intenta redefinir una constante incorporada o una función que ya está en uso, Julia le dará un error:"
   ]
  },
  {
   "cell_type": "code",
   "execution_count": null,
   "metadata": {
    "vscode": {
     "languageId": "julia"
    }
   },
   "outputs": [],
   "source": [
    "\n",
    "# Intentamos redefinir la constante pi\n",
    "const pi = 3.14159  # Esto no generará un error, pero se recomienda evitarlo\n",
    "\n",
    "# Intentamos reasignar un valor a pi\n",
    "pi = 3  # Esto generará un error, ya que pi es una constante"
   ]
  },
  {
   "cell_type": "markdown",
   "metadata": {},
   "source": [
    "Los únicos nombres que no se permiten en Julia son las palabras claves integradas en el lenguaje por defecto "
   ]
  },
  {
   "cell_type": "code",
   "execution_count": null,
   "metadata": {
    "vscode": {
     "languageId": "julia"
    }
   },
   "outputs": [],
   "source": [
    "# Intentamos asignar un valor a la palabra clave \"function\"\n",
    "function = 10  # Esto generará un error\n",
    "\n",
    "# Intentamos crear una variable llamada \"if\"\n",
    "if = true  # Esto también generará un error"
   ]
  },
  {
   "cell_type": "markdown",
   "metadata": {},
   "source": [
    "Hay que tener en cuenta que hay caracteres que, al sonar o verse parecidos, Julia los toma como si fueran el mismo carácter. Por ejemplo, la letra \"e\" con acento (é) y la letra \"e\" sin acento (e) se tratan como la misma letra.\n",
    "\n",
    "Además de las equivalencias estándar de Unicode, Julia tiene algunas reglas especiales para ciertos caracteres. Por ejemplo, la letra griega \"epsilon\" (ε) y el símbolo \"micro\" (µ) se consideran lo mismo."
   ]
  },
  {
   "cell_type": "code",
   "execution_count": null,
   "metadata": {
    "vscode": {
     "languageId": "julia"
    }
   },
   "outputs": [],
   "source": [
    "# Comparación entre epsilon y micro\n",
    "epsilon = \"ε\"\n",
    "micro = \"µ\"\n",
    "\n",
    "if epsilon == micro\n",
    "    println(\"Epsilon y micro son considerados iguales en Julia\")\n",
    "else\n",
    "    println(\"Epsilon y micro son diferentes\")\n",
    "end"
   ]
  },
  {
   "cell_type": "markdown",
   "metadata": {},
   "source": [
    "Asignación vs mutación \n",
    "\n",
    "Una confusión común es la distinción entre asignación (dar un nuevo \"nombre\" a un valor) y mutación (cambiar un valor). Si ejecuta a = 2 seguido de a = 3, ha cambiado el \"nombre\" a para que se refiera a un nuevo valor 3... ¡no ha cambiado el número 2, por lo que 2+2 seguirá dando 4 y no 6! Esta distinción se vuelve más clara cuando se trata de tipos mutables como las matrices, cuyo contenido se puede cambiar:\n",
    "Por ejemplo, en Python, si crea una lista como lista = [1, 2, 3] y luego cambia el primer elemento a 4 usando lista[0] = 4, no ha creado una nueva lista, sino que ha modificado la existente. Esto significa que si imprime la lista después del cambio, verá [4, 2, 3].\n",
    "En resumen, la asignación crea una nueva referencia a un valor, mientras que la mutación cambia el valor de una referencia existente. Esta distinción es importante tener en cuenta cuando se trabaja con tipos mutables, ya que puede afectar el comportamiento de su código."
   ]
  },
  {
   "cell_type": "markdown",
   "metadata": {},
   "source": [
    "Ejemplo de asignación de número"
   ]
  },
  {
   "cell_type": "code",
   "execution_count": null,
   "metadata": {
    "vscode": {
     "languageId": "julia"
    }
   },
   "outputs": [],
   "source": [
    "a = 2  # Asignamos el valor 2 a la variable a\n",
    "b = a  # Asignamos el valor de a (que es 2) a la variable b\n",
    "\n",
    "a = 3  # Cambiamos el valor de a a 3\n",
    "\n",
    "println(a)  # Imprime 3\n",
    "println(b)  # Imprime 2\n",
    "\n",
    "println(a + b)  # Imprime 5 (3 + 2)"
   ]
  },
  {
   "cell_type": "markdown",
   "metadata": {},
   "source": [
    "Ejemplo mutación de variable"
   ]
  },
  {
   "cell_type": "code",
   "execution_count": null,
   "metadata": {
    "vscode": {
     "languageId": "julia"
    }
   },
   "outputs": [],
   "source": [
    "lista = [1, 2, 3]  # Creamos una listaotra_lista = lista  # Ambas variables apuntan a la misma lista\n",
    "lista[1] = 4  # Modificamos el primer elemento de la lista\n",
    "println(lista)  # Imprime [4, 2, 3]println(otra_lista)  # Imprime [4, 2, 3] también, ya que ambas variables apuntan a la misma lista"
   ]
  }
 ],
 "metadata": {
  "kernelspec": {
   "display_name": "Python 3",
   "language": "python",
   "name": "python3"
  },
  "language_info": {
   "codemirror_mode": {
    "name": "ipython",
    "version": 3
   },
   "file_extension": ".py",
   "mimetype": "text/x-python",
   "name": "python",
   "nbconvert_exporter": "python",
   "pygments_lexer": "ipython3",
   "version": "3.11.3"
  }
 },
 "nbformat": 4,
 "nbformat_minor": 2
}
