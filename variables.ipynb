{
 "cells": [
  {
   "cell_type": "markdown",
   "metadata": {},
   "source": [
    "Una variable es un espacio de memoria que guarda un valor, en julia, este valor que puede almacenar puede ser de varios tipos. Estos tipos son:"
   ]
  },
  {
   "cell_type": "markdown",
   "metadata": {},
   "source": [
    "integer:"
   ]
  },
  {
   "cell_type": "code",
   "execution_count": 1,
   "metadata": {},
   "outputs": [],
   "source": [
    "#Integer\n",
    "x=10\n",
    "y= -3\n",
    "\n",
    "#float\n",
    "z = 2.8\n",
    "\n",
    "#String\n",
    "palabra = \"Hola, estoy aprendiendo julia\"\n"
   ]
  },
  {
   "cell_type": "markdown",
   "metadata": {},
   "source": [
    "Julia incluso permite definir variables y los nombres de las mismas en distintes idiomas, letras griegas e inclusive emojis(aunque no es para nada recomendable utilizar los emojis en un programa)"
   ]
  },
  {
   "cell_type": "code",
   "execution_count": 2,
   "metadata": {},
   "outputs": [],
   "source": [
    "#letras griegas\n",
    "α= 3.96\n",
    "β = 1.45\n",
    "θ = 9.23\n",
    "\n",
    "#otros idiomas\n",
    "안녕하세요 = \"Hello\"\n",
    "\n",
    "#Emojis\n",
    "\n",
    "\n",
    "😝 = \"Mira el emoji\"\n",
    "😎 = \"No es muy cool?\""
   ]
  }
 ],
 "metadata": {
  "kernelspec": {
   "display_name": "Python 3",
   "language": "python",
   "name": "python3"
  },
  "language_info": {
   "codemirror_mode": {
    "name": "ipython",
    "version": 3
   },
   "file_extension": ".py",
   "mimetype": "text/x-python",
   "name": "python",
   "nbconvert_exporter": "python",
   "pygments_lexer": "ipython3",
   "version": "3.11.3"
  }
 },
 "nbformat": 4,
 "nbformat_minor": 2
}
