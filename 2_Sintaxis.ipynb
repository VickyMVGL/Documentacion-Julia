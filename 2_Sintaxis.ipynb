{
 "cells": [
  {
   "cell_type": "markdown",
   "metadata": {},
   "source": [
    "# Comentarios:\n",
    "\n",
    "¿Para qué sirven? Los comentarios son notas que añades a tu código para explicar qué hace cada parte. Son ignorados por el intérprete de Julia.\n",
    "Cómo agregarlos:\n",
    "Una línea: Se inicia con el símbolo #. Todo lo que esté después del # en esa línea será un comentario.\n",
    "Múltiples líneas: Se encierra entre triples comillas (\"\"\"). Puedes escribir texto en varias líneas dentro de estas comillas."
   ]
  },
  {
   "cell_type": "code",
   "execution_count": 5,
   "metadata": {},
   "outputs": [
    {
     "data": {
      "text/plain": [
       "\"Este es un comentario\\nque abarca múltiples líneas.\\n\""
      ]
     },
     "metadata": {},
     "output_type": "display_data"
    }
   ],
   "source": [
    "# Esto es un comentario de una línea\n",
    "\"\"\"\n",
    "Este es un comentario\n",
    "que abarca múltiples líneas.\n",
    "\"\"\""
   ]
  },
  {
   "cell_type": "markdown",
   "metadata": {},
   "source": [
    "# Operadores:\n",
    "\n",
    "¿Para qué sirven? Permiten realizar operaciones entre valores.\n",
    "Tipos:\n",
    "Aritméticos: +, -, *, /, ^ (potencia)\n",
    "Lógicos: && (y), || (o), ! (no)\n",
    "Comparación: == (igual), != (diferente), <, >, <=, >=\n",
    "Concatenación de cadenas: * (ej: \"Hola\" * \" mundo\")"
   ]
  },
  {
   "cell_type": "code",
   "execution_count": 6,
   "metadata": {},
   "outputs": [
    {
     "data": {
      "text/plain": [
       "\"El resultado es: 8\""
      ]
     },
     "metadata": {},
     "output_type": "display_data"
    }
   ],
   "source": [
    "x = 5\n",
    "y = 3\n",
    "suma = x + y  # Suma\n",
    "es_mayor = x > y  # Comparación\n",
    "mensaje = \"El resultado es: \" * string(suma)  # Concatenación"
   ]
  },
  {
   "cell_type": "markdown",
   "metadata": {},
   "source": [
    "# Funciones:\n",
    "\n",
    "Son bloques de código reutilizables que realizan una tarea específica. Se definen con la palabra clave function."
   ]
  },
  {
   "cell_type": "code",
   "execution_count": null,
   "metadata": {},
   "outputs": [],
   "source": [
    "function nombre_funcion(argumento1, argumento2)\n",
    "    # Cuerpo de la función\n",
    "    valor = argumento1 + argumento2\n",
    "    return valor\n",
    "end"
   ]
  },
  {
   "cell_type": "markdown",
   "metadata": {},
   "source": [
    "# Llamadas a funciones:\n",
    "\n",
    "Son como pedirle a alguien que realice una tarea. Le pasas los datos necesarios (argumentos) y obtienes un resultado. Por ejemplo, resultado = suma(2, 3) llama a la función suma con los argumentos 2 y 3 y guarda el resultado en resultado."
   ]
  },
  {
   "cell_type": "code",
   "execution_count": 7,
   "metadata": {},
   "outputs": [
    {
     "ename": "ErrorException",
     "evalue": "cannot define function suma; it already has a value",
     "output_type": "error",
     "traceback": [
      "cannot define function suma; it already has a value\n",
      "\n",
      "Stacktrace:\n",
      " [1] top-level scope\n",
      "   @ none:0"
     ]
    }
   ],
   "source": [
    "function suma(a, b)\n",
    "    return a + b\n",
    "end\n",
    "\n",
    "resultado = suma(3, 4)  # Llama a la función suma y asigna el resultado a resultado"
   ]
  },
  {
   "cell_type": "markdown",
   "metadata": {},
   "source": [
    "# Control de flujo:\n",
    "\n",
    "Determina el orden en que se ejecutan las instrucciones. Con if, else, elseif tomas decisiones; con for y while repites un bloque de código varias veces."
   ]
  },
  {
   "cell_type": "code",
   "execution_count": null,
   "metadata": {},
   "outputs": [],
   "source": [
    "# if, else, elseif: Permiten ejecutar diferentes bloques de código según una condición.\n",
    "x=9\n",
    "\n",
    "if x > 0\n",
    "    println(\"x es positivo\")\n",
    "elseif x < 0\n",
    "    println(\"x es negativo\")\n",
    "else\n",
    "    println(\"x es cero\")\n",
    "end\n",
    "\n",
    "#for: Se utiliza para iterar sobre una secuencia de valores.\n",
    "\n",
    "for i in 1:5\n",
    "    println(i)\n",
    "end\n",
    "\n",
    "# while: Ejecuta un bloque de código mientras una condición sea verdadera.\n",
    "\n",
    "i = 1\n",
    "while i <= 5\n",
    "    println(i)\n",
    "    i += 1\n",
    "end"
   ]
  },
  {
   "cell_type": "markdown",
   "metadata": {},
   "source": [
    "# Macros:\n",
    "\n",
    "Son herramientas poderosas para modificar el código antes de que sea ejecutado. Permiten crear nuevas sintaxis y personalizar el lenguaje.\n",
    "\n",
    "Usos:\n",
    "- Crear nuevas sintaxis.\n",
    "- Generar código de forma dinámica.\n",
    "- Metaprogramación."
   ]
  },
  {
   "cell_type": "code",
   "execution_count": null,
   "metadata": {},
   "outputs": [],
   "source": [
    "macro mi_macro(expr)\n",
    "    return quote\n",
    "        println(\"Estás usando mi macro con: \", $expr)\n",
    "        $expr\n",
    "    end\n",
    "end\n",
    "\n",
    "@mi_macro 2 + 2"
   ]
  },
  {
   "cell_type": "markdown",
   "metadata": {},
   "source": [
    "# Vectores\n",
    "\n",
    "Un vector es una secuencia ordenada de elementos del mismo tipo. Es similar a una lista en otros lenguajes."
   ]
  },
  {
   "cell_type": "code",
   "execution_count": null,
   "metadata": {},
   "outputs": [],
   "source": [
    "\n",
    "\"\"\" Creando los vectores \"\"\"\n",
    "# Creando un vector con valores\n",
    "vector1 = [1, 2, 3, 4]\n",
    "\n",
    "# Creando un vector de ceros de tamaño 5\n",
    "vector2 = zeros(5)\n",
    "\n",
    "\"\"\" Acceso a elementos \"\"\"\n",
    "\n",
    "# Accediendo al primer elemento\n",
    "primer_elemento = vector1[1]\n",
    "\n",
    "# Accediendo a los últimos dos elementos\n",
    "ultimos_dos = vector1[end-1:end]\n",
    "\n",
    "\"\"\" Operaciones \"\"\"\n",
    "\n",
    "# Sumando dos vectores\n",
    "suma_vectores = vector1 + vector2\n",
    "print(suma_vectores)\n",
    "\n",
    "# Multiplicando un vector por un escalar\n",
    "vector_escalado = 2 * vector1\n",
    "print(vector_escalado)\n"
   ]
  },
  {
   "cell_type": "markdown",
   "metadata": {},
   "source": [
    "# Matrices\n",
    "\n",
    "Una matriz es una colección bidimensional de elementos del mismo tipo, organizados en filas y columnas."
   ]
  },
  {
   "cell_type": "code",
   "execution_count": null,
   "metadata": {},
   "outputs": [],
   "source": [
    "\"\"\" Creando la matriz \"\"\"\n",
    "\n",
    "# Creando una matriz 2x3\n",
    "matriz = [1 2 3; 4 5 6]\n",
    "\n",
    "\"\"\" Acceso a elementos \"\"\"\n",
    "\n",
    "# Accediendo al elemento en la segunda fila, tercera columna\n",
    "elemento = matriz[2, 3]\n",
    "\n",
    "\"\"\" Operaciones \"\"\"\n",
    "\n",
    "# Transpuesta de una matriz\n",
    "transpuesta = matriz'\n",
    "\n",
    "# Multiplicación de matrices\n",
    "producto = matriz * matriz'"
   ]
  },
  {
   "cell_type": "markdown",
   "metadata": {},
   "source": [
    "# Tuplas\n",
    "\n",
    "Una tupla es una secuencia inmutable de elementos de diferentes tipos. A diferencia de los vectores, no se pueden modificar una vez creadas.\n",
    "\n",
    "Diferencias con vectores:\n",
    "- Las tuplas son inmutables, mientras que los vectores se pueden modificar.\n",
    "- Las tuplas pueden contener elementos de diferentes tipos, mientras que los vectores deben tener elementos del mismo tipo."
   ]
  },
  {
   "cell_type": "code",
   "execution_count": null,
   "metadata": {},
   "outputs": [],
   "source": [
    "# Creando una tupla\n",
    "tupla = (1, \"hola\", 3.14)"
   ]
  },
  {
   "cell_type": "markdown",
   "metadata": {},
   "source": [
    "# Diccionarios\n",
    "\n",
    "Un diccionario es una colección de pares clave-valor, donde cada clave es única. Es similar a un mapa en otros lenguajes."
   ]
  },
  {
   "cell_type": "code",
   "execution_count": null,
   "metadata": {},
   "outputs": [],
   "source": [
    "# Creando un diccionario\n",
    "diccionario = Dict(\"nombre\" => \"Juan\", \"edad\" => 30)\n",
    "\n",
    "# Accediendo al valor asociado a la clave \"nombre\"\n",
    "nombre = diccionario[\"nombre\"]\n",
    "print(nombre)"
   ]
  },
  {
   "cell_type": "markdown",
   "metadata": {},
   "source": [
    "# Sets\n",
    "Un set es una colección desordenada de elementos únicos."
   ]
  },
  {
   "cell_type": "code",
   "execution_count": null,
   "metadata": {},
   "outputs": [],
   "source": [
    "# Creando un set\n",
    "conjunto = Set([1, 2, 2, 3])  # El elemento 2 aparece una sola vez\n",
    "\n",
    "\"\"\"Operaciones\"\"\"\n",
    "\n",
    "# Unión de conjuntos\n",
    "conjunto1 = Set([1, 2, 3])\n",
    "conjunto2 = Set([3, 4, 5])\n",
    "union(conjunto1, conjunto2)\n",
    "\n",
    "# Intersección de conjuntos\n",
    "intersect(conjunto1, conjunto2)"
   ]
  }
 ],
 "metadata": {
  "kernelspec": {
   "display_name": "Julia 1.11.0",
   "language": "julia",
   "name": "julia-1.11"
  },
  "language_info": {
   "file_extension": ".jl",
   "mimetype": "application/julia",
   "name": "julia",
   "version": "1.11.0"
  }
 },
 "nbformat": 4,
 "nbformat_minor": 2
}
