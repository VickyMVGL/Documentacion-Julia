{
 "cells": [
  {
   "cell_type": "markdown",
   "metadata": {},
   "source": [
    "Empecemos con un macro simple:"
   ]
  },
  {
   "cell_type": "code",
   "execution_count": null,
   "metadata": {},
   "outputs": [],
   "source": [
    "julia> macro dihola()\n",
    "           return :( println(\"Hola, mundo!\") )\n",
    "       end\n",
    "@dihola (macro with 1 method)"
   ]
  },
  {
   "cell_type": "markdown",
   "metadata": {},
   "source": [
    "Las macros tienen un carácter dedicado en la sintaxis de Julia: @ (arroba), seguido del nombre único declarado en una macro NOMBRE... bloque final. En este ejemplo, el compilador reemplazará todas las instancias de @sayhello con:"
   ]
  },
  {
   "cell_type": "code",
   "execution_count": null,
   "metadata": {},
   "outputs": [],
   "source": [
    ":( println(\"Hola, mundo!\") )"
   ]
  },
  {
   "cell_type": "markdown",
   "metadata": {},
   "source": [
    "Cuando @diholaes introducido en el REPL, la expresion se ejecuta inmediatamente, por lo tanto solo vemos el resultado de la evaluacion:"
   ]
  },
  {
   "cell_type": "code",
   "execution_count": null,
   "metadata": {},
   "outputs": [],
   "source": [
    "julia> @dihola()\n",
    "Hola, mundo!"
   ]
  },
  {
   "cell_type": "markdown",
   "metadata": {},
   "source": [
    "Ahora, considerando una macro mas compleja:"
   ]
  },
  {
   "cell_type": "code",
   "execution_count": null,
   "metadata": {},
   "outputs": [],
   "source": [
    "julia> macro dihola(nom)\n",
    "           return :( println(\"Hello, \", $nom) )\n",
    "       end\n",
    "@dihola (macro with 1 method)"
   ]
  },
  {
   "cell_type": "markdown",
   "metadata": {},
   "source": [
    "Esta macro toma un argumento: nom. Cuando llega a @dihola, la expresion citada es expandida para interpolar el valore del argumento en la expresion final:"
   ]
  },
  {
   "cell_type": "code",
   "execution_count": null,
   "metadata": {},
   "outputs": [],
   "source": [
    "julia> @dihola(\"humano\")\n",
    "Hola, humano"
   ]
  },
  {
   "cell_type": "markdown",
   "metadata": {},
   "source": [
    "# Por que usar macros?"
   ]
  },
  {
   "cell_type": "markdown",
   "metadata": {},
   "source": [
    "Ya hemos visto una función f(::Expr...) -> Expr en una sección anterior. De hecho, la macroexpansión también es una de esas funciones. Entonces, ¿por qué existen las macros?\n",
    "\n",
    "Las macros son necesarias porque se ejecutan cuando se analiza el código; por lo tanto, las macros permiten al programador generar e incluir fragmentos de código personalizado antes de ejecutar el programa completo. Para ilustrar la diferencia, considere el siguiente ejemplo:"
   ]
  },
  {
   "cell_type": "code",
   "execution_count": null,
   "metadata": {},
   "outputs": [],
   "source": [
    "julia> macro twostep(arg)\n",
    "           println(\"I execute at parse time. The argument is: \", arg)\n",
    "           return :(println(\"I execute at runtime. The argument is: \", $arg))\n",
    "       end\n",
    "@twostep (macro with 1 method)\n",
    "\n",
    "julia> ex = macroexpand(Main, :(@twostep :(1, 2, 3)) );\n",
    "I execute at parse time. The argument is: :((1, 2, 3))"
   ]
  },
  {
   "cell_type": "markdown",
   "metadata": {},
   "source": [
    "La primera llamada a println se ejecuta cuando se llama a macroexpand. La expresión resultante contiene sólo el segundo println:"
   ]
  },
  {
   "cell_type": "code",
   "execution_count": null,
   "metadata": {},
   "outputs": [],
   "source": [
    "julia> typeof(ex)\n",
    "Expr\n",
    "\n",
    "julia> ex\n",
    ":(println(\"I execute at runtime. The argument is: \", $(Expr(:copyast, :($(QuoteNode(:((1, 2, 3)))))))))\n",
    "\n",
    "julia> eval(ex)\n",
    "I execute at runtime. The argument is: (1, 2, 3)"
   ]
  }
 ],
 "metadata": {
  "kernelspec": {
   "display_name": "Julia 1.11.0",
   "language": "julia",
   "name": "julia-1.11"
  },
  "language_info": {
   "file_extension": ".jl",
   "mimetype": "application/julia",
   "name": "julia",
   "version": "1.11.0"
  }
 },
 "nbformat": 4,
 "nbformat_minor": 2
}
