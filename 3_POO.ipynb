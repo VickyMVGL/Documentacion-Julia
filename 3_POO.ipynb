{
 "cells": [
  {
   "cell_type": "markdown",
   "metadata": {},
   "source": [
    "# Tipos\n",
    "\n",
    "Un tipo en Julia define una nueva categoría de datos, con propiedades y métodos específicos. Es como crear una plantilla para un nuevo tipo de objeto."
   ]
  },
  {
   "cell_type": "code",
   "execution_count": null,
   "metadata": {
    "vscode": {
     "languageId": "julia"
    }
   },
   "outputs": [],
   "source": [
    "\"\"\" Sintaxis \"\"\"\n",
    "\n",
    "struct MiTipo\n",
    "    propiedad1\n",
    "    propiedad2\n",
    "end\n",
    "\n",
    "\"\"\" Ejemplo \"\"\"\n",
    "\n",
    "struct Persona\n",
    "    nombre\n",
    "    edad\n",
    "end\n",
    "\n",
    "persona1 = Persona(\"Juan\", 30)"
   ]
  },
  {
   "cell_type": "markdown",
   "metadata": {},
   "source": [
    "# Métodos\n",
    "\n",
    "Un método es una función asociada a un tipo. Define el comportamiento de los objetos de ese tipo."
   ]
  },
  {
   "cell_type": "code",
   "execution_count": null,
   "metadata": {
    "vscode": {
     "languageId": "julia"
    }
   },
   "outputs": [],
   "source": [
    "\"\"\"Sintaxis\"\"\"\n",
    "\n",
    "function metodo(objeto::MiTipo, ...)\n",
    "    # Cuerpo del método\n",
    "end\n",
    "\n",
    "\"\"\"Ejemplo\"\"\"\n",
    "\n",
    "function saluda(persona::Persona)\n",
    "    println(\"Hola, me llamo $(persona.nombre)\")\n",
    "end"
   ]
  },
  {
   "cell_type": "markdown",
   "metadata": {},
   "source": [
    "# Herencia\n",
    "\n",
    "Aunque Julia no tiene una herencia clásica como en otros lenguajes, se pueden lograr comportamientos similares utilizando composición y despacho múltiple.\n",
    "\n",
    "- Composición: Se crea un tipo que contiene instancias de otros tipos.\n",
    "- Despacho múltiple: Permite definir diferentes comportamientos para una misma función según los tipos de sus argumentos."
   ]
  },
  {
   "cell_type": "code",
   "execution_count": null,
   "metadata": {
    "vscode": {
     "languageId": "julia"
    }
   },
   "outputs": [],
   "source": [
    "struct Empleado <: Persona\n",
    "    cargo\n",
    "end\n",
    "\n",
    "function trabajar(persona::Empleado)\n",
    "    println(\"Estoy trabajando como $(persona.cargo)\")\n",
    "end"
   ]
  },
  {
   "cell_type": "markdown",
   "metadata": {},
   "source": [
    "# Despacho Múltiple\n",
    "\n",
    "Es un mecanismo que permite seleccionar la implementación de una función en tiempo de ejecución basándose en los tipos de sus argumentos. Es una característica fundamental de Julia.\n",
    "\n",
    "Por qué el despacho múltiple es importante:\n",
    "\n",
    "- Flexibilidad: Permite definir múltiples implementaciones de una misma función para diferentes tipos de datos.\n",
    "- Eficiencia: El compilador de Julia puede optimizar el código basado en los tipos de los argumentos en tiempo de compilación.\n",
    "- expresividad: Facilita la escritura de código conciso y elegante.\n"
   ]
  },
  {
   "cell_type": "code",
   "execution_count": null,
   "metadata": {
    "vscode": {
     "languageId": "julia"
    }
   },
   "outputs": [],
   "source": [
    "function suma(x::Int, y::Int)\n",
    "    return x + y\n",
    "end\n",
    "\n",
    "function suma(x::Float64, y::Float64)\n",
    "    return x + y\n",
    "end"
   ]
  }
 ],
 "metadata": {
  "language_info": {
   "name": "python"
  }
 },
 "nbformat": 4,
 "nbformat_minor": 2
}
