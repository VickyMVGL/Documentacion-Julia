{
 "cells": [
  {
   "cell_type": "markdown",
   "metadata": {},
   "source": [
    "La metaprogramación en Julia te permite escribir código que manipula el propio código. Es como tener un constructor de lenguajes dentro de tu lenguaje, lo que te brinda una gran flexibilidad y poder para adaptar Julia a tus necesidades específicas."
   ]
  },
  {
   "cell_type": "markdown",
   "metadata": {},
   "source": [
    "# Macros\n",
    "\n",
    "Las macros son expresiones que se expanden en código Julia antes de que sea ejecutado. Son como pequeñas plantillas que puedes personalizar para generar código de forma dinámica. Se definen con la palabra clave macro."
   ]
  },
  {
   "cell_type": "code",
   "execution_count": null,
   "metadata": {
    "vscode": {
     "languageId": "julia"
    }
   },
   "outputs": [],
   "source": [
    "macro mi_macro(expr)\n",
    "    return quote\n",
    "        println(\"Estás ejecutando: $expr\")\n",
    "        $expr\n",
    "    end\n",
    "end\n",
    "@mi_macro 2 + 2\n",
    "\n",
    "#Esta macro imprimirá un mensaje antes de evaluar la expresión."
   ]
  },
  {
   "cell_type": "markdown",
   "metadata": {},
   "source": [
    "# Generación de Código en Tiempo de Ejecución\n",
    "\n",
    "quote y end son palabras clave que se utilizan para crear expresiones que serán evaluadas más tarde. Ademas, gracias  ala interpolacion puedes insertar valores en expresiones utilizando $."
   ]
  },
  {
   "cell_type": "code",
   "execution_count": null,
   "metadata": {
    "vscode": {
     "languageId": "julia"
    }
   },
   "outputs": [],
   "source": [
    "function genera_funcion(n)\n",
    "    expr = quote\n",
    "        function f(x)\n",
    "            return x^$n\n",
    "        end\n",
    "    end\n",
    "    eval(expr)\n",
    "end\n",
    "\n",
    "cuadrado = genera_funcion(2)\n",
    "cubo = genera_funcion(3)\n",
    "\n",
    "#Esta función genera funciones que elevan un número a una potencia dada."
   ]
  },
  {
   "cell_type": "markdown",
   "metadata": {},
   "source": [
    "# Modificación de Tipos\n",
    "\n",
    "Puedes redefinir métodos existentes para tipos personalizados.\n",
    "\n",
    "## Metaprogramación de tipos\n",
    "\n",
    "Puedes crear nuevos tipos de forma dinámica o modificar tipos existentes.\n",
    "Ejemplo:"
   ]
  },
  {
   "cell_type": "code",
   "execution_count": null,
   "metadata": {
    "vscode": {
     "languageId": "julia"
    }
   },
   "outputs": [],
   "source": [
    "struct MiNumero\n",
    "    valor\n",
    "end\n",
    "\n",
    "Base.:+(x::MiNumero, y::MiNumero) = MiNumero(x.valor + y.valor)\n",
    "\n",
    "# Aquí se redefine la operación de suma para el tipo MiNumero."
   ]
  }
 ],
 "metadata": {
  "language_info": {
   "name": "python"
  }
 },
 "nbformat": 4,
 "nbformat_minor": 2
}
