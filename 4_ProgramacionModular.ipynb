{
 "cells": [
  {
   "cell_type": "markdown",
   "metadata": {},
   "source": [
    "# Creación de Módulos\n",
    "\n",
    "- Estructura: Un módulo en Julia es esencialmente un archivo .jl que contiene definiciones de funciones, tipos, constantes y otras variables.\n",
    "- Creación: Simplemente crea un nuevo archivo con extensión .jl y comienza a definir tus elementos."
   ]
  },
  {
   "cell_type": "code",
   "execution_count": null,
   "metadata": {
    "vscode": {
     "languageId": "julia"
    }
   },
   "outputs": [],
   "source": [
    "# archivo mi_modulo.jl\n",
    "module MiModulo\n",
    "\n",
    "# Definiciones dentro del módulo\n",
    "function saludo(nombre)\n",
    "    println(\"Hola, $nombre!\")\n",
    "end\n",
    "\n",
    "struct Persona\n",
    "    nombre\n",
    "    edad\n",
    "end"
   ]
  },
  {
   "cell_type": "markdown",
   "metadata": {},
   "source": [
    "# Exportación de Elementos\n",
    "\n",
    " Por defecto, todos los elementos definidos dentro de un módulo son privados. Para hacerlos accesibles desde otros módulos, debes exportarlos."
   ]
  },
  {
   "cell_type": "code",
   "execution_count": null,
   "metadata": {
    "vscode": {
     "languageId": "julia"
    }
   },
   "outputs": [],
   "source": [
    "export saludo, Persona"
   ]
  },
  {
   "cell_type": "markdown",
   "metadata": {},
   "source": [
    "# Uso de Módulos\n",
    "\n",
    "Importación: Para utilizar un módulo en otro archivo, debes importarlo.\n",
    "\n",
    "Uso: Una vez importado, puedes usar los elementos exportados directamente."
   ]
  },
  {
   "cell_type": "code",
   "execution_count": null,
   "metadata": {
    "vscode": {
     "languageId": "julia"
    }
   },
   "outputs": [],
   "source": [
    "#Importacion\n",
    "\n",
    "using MiModulo\n",
    "\n",
    "#uso del modulo\n",
    "\n",
    "saludo(\"Juan\")\n",
    "persona = Persona(\"Ana\", 30)"
   ]
  },
  {
   "cell_type": "markdown",
   "metadata": {},
   "source": [
    "# Ejemplo de modulo completo"
   ]
  },
  {
   "cell_type": "code",
   "execution_count": null,
   "metadata": {
    "vscode": {
     "languageId": "julia"
    }
   },
   "outputs": [],
   "source": [
    "#MiModulo.jl\n",
    "\n",
    "module MiModulo\n",
    "export saludo, Persona\n",
    "\n",
    "function saludo(nombre)\n",
    "    println(\"Hola, $nombre!\")\n",
    "end\n",
    "\n",
    "struct Persona\n",
    "    nombre\n",
    "    edad\n",
    "end\n",
    "\n",
    "end"
   ]
  },
  {
   "cell_type": "code",
   "execution_count": null,
   "metadata": {
    "vscode": {
     "languageId": "julia"
    }
   },
   "outputs": [],
   "source": [
    "#Main.jl\n",
    "\n",
    "using MiModulo\n",
    "\n",
    "saludo(\"Mundo\")\n",
    "persona = Persona(\"Ana\", 30)\n",
    "println(persona.nombre)"
   ]
  }
 ],
 "metadata": {
  "language_info": {
   "name": "python"
  }
 },
 "nbformat": 4,
 "nbformat_minor": 2
}
